{
 "cells": [
  {
   "cell_type": "code",
   "execution_count": 17,
   "metadata": {},
   "outputs": [
    {
     "name": "stdout",
     "output_type": "stream",
     "text": [
      "[2, 4, 8, 12, 16]\n"
     ]
    }
   ],
   "source": [
    "def isEven(num):\n",
    "    if num%2 ==0:\n",
    "        return num\n",
    "l = [1,2,4,5,8,9,12,16,17,21]\n",
    "l1 = list(filter(isEven,l))\n",
    "print(l1)"
   ]
  },
  {
   "cell_type": "code",
   "execution_count": 15,
   "metadata": {},
   "outputs": [
    {
     "name": "stdout",
     "output_type": "stream",
     "text": [
      "[2, 4, 8, 12, 16]\n"
     ]
    }
   ],
   "source": [
    "l = [1,2,4,5,8,9,12,16,17,21]\n",
    "l1 = list(filter(lambda x:x%2==0,l))\n",
    "print(l1)"
   ]
  },
  {
   "cell_type": "code",
   "execution_count": 3,
   "metadata": {},
   "outputs": [
    {
     "name": "stdout",
     "output_type": "stream",
     "text": [
      "2002,2009,2016,2023,2030,2037,2044,2051,2058,2065,2072,2079,2086,2093,2107,2114,2121,2128,2135,2142,2149,2156,2163,2170,2177,2184,2191,2198,2205,2212,2219,2226,2233,2240,2247,2254,2261,2268,2282,2289,2296,2303,2310,2317,2324,2331,2338,2345,2352,2359,2366,2373,2380,2387,2394,2401,2408,2415,2422,2429,2436,2443,2457,2464,2471,2478,2485,2492,2499,2506,2513,2520,2527,2534,2541,2548,2555,2562,2569,2576,2583,2590,2597,2604,2611,2618,2632,2639,2646,2653,2660,2667,2674,2681,2688,2695,2702,2709,2716,2723,2730,2737,2744,2751,2758,2765,2772,2779,2786,2793,2807,2814,2821,2828,2835,2842,2849,2856,2863,2870,2877,2884,2891,2898,2905,2912,2919,2926,2933,2940,2947,2954,2961,2968,2982,2989,2996,3003,3010,3017,3024,3031,3038,3045,3052,3059,3066,3073,3080,3087,3094,3101,3108,3115,3122,3129,3136,3143,3157,3164,3171,3178,3185,3192,3199,"
     ]
    }
   ],
   "source": [
    "for x in range(2000, 3201):\n",
    "    if (x%7)==0:\n",
    "        y=x/5.0\n",
    "        if (y%5)!=0:print(str(x), end =\",\")"
   ]
  },
  {
   "cell_type": "code",
   "execution_count": 43,
   "metadata": {},
   "outputs": [
    {
     "name": "stdout",
     "output_type": "stream",
     "text": [
      "[2002, 2009, 2016, 2023, 2037, 2044, 2051, 2058, 2072, 2079, 2086, 2093, 2107, 2114, 2121, 2128, 2142, 2149, 2156, 2163, 2177, 2184, 2191, 2198, 2212, 2219, 2226, 2233, 2247, 2254, 2261, 2268, 2282, 2289, 2296, 2303, 2317, 2324, 2331, 2338, 2352, 2359, 2366, 2373, 2387, 2394, 2401, 2408, 2422, 2429, 2436, 2443, 2457, 2464, 2471, 2478, 2492, 2499, 2506, 2513, 2527, 2534, 2541, 2548, 2562, 2569, 2576, 2583, 2597, 2604, 2611, 2618, 2632, 2639, 2646, 2653, 2667, 2674, 2681, 2688, 2702, 2709, 2716, 2723, 2737, 2744, 2751, 2758, 2772, 2779, 2786, 2793, 2807, 2814, 2821, 2828, 2842, 2849, 2856, 2863, 2877, 2884, 2891, 2898, 2912, 2919, 2926, 2933, 2947, 2954, 2961, 2968, 2982, 2989, 2996, 3003, 3017, 3024, 3031, 3038, 3052, 3059, 3066, 3073, 3087, 3094, 3101, 3108, 3122, 3129, 3136, 3143, 3157, 3164, 3171, 3178, 3192, 3199]\n"
     ]
    }
   ],
   "source": [
    "list = [x for x in range(2000,3201) if x%7 ==0 and x%5!=0]\n",
    "print(list)"
   ]
  },
  {
   "cell_type": "code",
   "execution_count": 58,
   "metadata": {},
   "outputs": [
    {
     "name": "stdout",
     "output_type": "stream",
     "text": [
      "[200, 202, 204, 206, 208, 210, 212, 214, 216, 218, 220, 222, 224, 226, 228, 230, 232, 234, 236, 238, 240, 242, 244, 246, 248, 250, 252, 254, 256, 258, 260, 262, 264, 266, 268, 270, 272, 274, 276, 278, 280, 282, 284, 286, 288, 290, 292, 294, 296, 298]\n"
     ]
    }
   ],
   "source": [
    "list=[x for x in range(200,300) if x%2==0]\n",
    "print(list)"
   ]
  },
  {
   "cell_type": "code",
   "execution_count": 60,
   "metadata": {},
   "outputs": [],
   "source": [
    "list=[x for x in range(100,300) if x %1==0 and x%x ==0]\n"
   ]
  },
  {
   "cell_type": "code",
   "execution_count": 66,
   "metadata": {},
   "outputs": [
    {
     "name": "stdout",
     "output_type": "stream",
     "text": [
      "4\n",
      "10\n",
      "14\n",
      "18\n",
      "20\n"
     ]
    }
   ],
   "source": [
    "l =[2,5,7,9,10]\n",
    "for x in l:\n",
    "    print(x*2)\n"
   ]
  },
  {
   "cell_type": "code",
   "execution_count": 75,
   "metadata": {},
   "outputs": [
    {
     "name": "stdout",
     "output_type": "stream",
     "text": [
      "13 is not a prime number\n"
     ]
    }
   ],
   "source": [
    "def isPrime(x):\n",
    "    if(x>1):\n",
    "        for i in range(2,x+1):\n",
    "            if(x%i)==0:\n",
    "                print(x,\"is not a prime number\")\n",
    "           \n",
    "    else:\n",
    "        print(x,\"is a prime number\")\n",
    "\n",
    "isPrime(13)"
   ]
  },
  {
   "cell_type": "code",
   "execution_count": 10,
   "metadata": {},
   "outputs": [
    {
     "name": "stdout",
     "output_type": "stream",
     "text": [
      "count value: 0\n",
      "mnp value: 0\n",
      "mnp value: 1\n",
      "count value: 1\n",
      "mnp value: 0\n",
      "mnp value: 1\n",
      "count value: 2\n",
      "mnp value: 0\n",
      "mnp value: 1\n",
      "finished\n"
     ]
    }
   ],
   "source": [
    "count=0\n",
    "mnp=0\n",
    "while(count<3):\n",
    "    print(\"count value: \"+ str(count))\n",
    "    while(mnp<2):\n",
    "        print(\"mnp value: \" + str(mnp))\n",
    "        mnp=mnp+1\n",
    "    count=count+1\n",
    "    mnp=0\n",
    "else:\n",
    "    print(\"finished\")\n",
    "\n"
   ]
  },
  {
   "cell_type": "code",
   "execution_count": 15,
   "metadata": {},
   "outputs": [
    {
     "name": "stdout",
     "output_type": "stream",
     "text": [
      "nothing\n"
     ]
    }
   ],
   "source": [
    "count =4\n",
    "if(count<1):\n",
    "    print(\"not less\")\n",
    "elif(count>8):\n",
    "    print(\"greater\")\n",
    "else:\n",
    "    print(\"nothing\")\n"
   ]
  },
  {
   "cell_type": "code",
   "execution_count": 18,
   "metadata": {},
   "outputs": [
    {
     "name": "stdout",
     "output_type": "stream",
     "text": [
      "abc\n",
      "xyz\n",
      "mnp\n"
     ]
    }
   ],
   "source": [
    "# for always used for sequenrtial traversal -List, Array, Dictionary,tuple..\n",
    "l=[\"abc\",\"xyz\",\"mnp\"]\n",
    "for x in l:\n",
    "    print(x)"
   ]
  },
  {
   "cell_type": "code",
   "execution_count": 33,
   "metadata": {},
   "outputs": [
    {
     "name": "stdout",
     "output_type": "stream",
     "text": [
      "G\n",
      "e\n",
      "e\n",
      "k\n",
      "s\n",
      "F\n",
      "o\n",
      "r\n",
      "G\n",
      "e\n",
      "e\n",
      "k\n",
      "s\n"
     ]
    }
   ],
   "source": [
    "# Continue is used to return the control the begining \n",
    "# break statement is used to come out of the control\n",
    "s=\"GeeksForGeeks\"\n",
    "for i in s:\n",
    "    if i=='k' or i=='s':\n",
    "        continue\n",
    "    print(i)"
   ]
  },
  {
   "cell_type": "code",
   "execution_count": 29,
   "metadata": {},
   "outputs": [],
   "source": [
    "s=\"HellA\"\n",
    "for i in s:\n",
    "    pass\n",
    "print(\"hello\")"
   ]
  },
  {
   "cell_type": "code",
   "execution_count": 50,
   "metadata": {},
   "outputs": [
    {
     "name": "stdout",
     "output_type": "stream",
     "text": [
      "1\n",
      "3\n",
      "5\n",
      "7\n",
      "9\n",
      "11\n",
      "13\n",
      "15\n",
      "17\n",
      "19\n"
     ]
    }
   ],
   "source": [
    "#print all even numbers from 1 to 20\n",
    "for i in range(1,21,2):\n",
    "    print(i)\n",
    "\n"
   ]
  },
  {
   "cell_type": "code",
   "execution_count": 58,
   "metadata": {},
   "outputs": [
    {
     "name": "stdout",
     "output_type": "stream",
     "text": [
      "1\r\n",
      "12\r\n",
      "123\r\n",
      "1234\r\n",
      "12345\r\n"
     ]
    }
   ],
   "source": [
    "for i in range(1,6):\n",
    "    for j in range(1,i+1):\n",
    "        print(j,end=\"\")\n",
    "    print(\"\\r\")\n"
   ]
  },
  {
   "cell_type": "code",
   "execution_count": 72,
   "metadata": {},
   "outputs": [
    {
     "name": "stdout",
     "output_type": "stream",
     "text": [
      "1\r\n",
      "12\r\n",
      "123\r\n",
      "1234\r\n",
      "12345\r\n",
      "123456\r\n"
     ]
    }
   ],
   "source": [
    "def ppattern(n):\n",
    "    for i in range(1,n+1):\n",
    "        for j in range(1,i+1):\n",
    "            print(j,end=\"\")\n",
    "        print(\"\\r\")\n",
    "\n",
    "ppattern(6)"
   ]
  },
  {
   "cell_type": "code",
   "execution_count": 73,
   "metadata": {},
   "outputs": [
    {
     "name": "stdout",
     "output_type": "stream",
     "text": [
      "1\r\n",
      "12\r\n",
      "123\r\n",
      "1234\r\n",
      "12345\r\n",
      "123456\r\n",
      "1234567\r\n"
     ]
    }
   ],
   "source": [
    "ppattern(7)"
   ]
  },
  {
   "cell_type": "code",
   "execution_count": 3,
   "metadata": {},
   "outputs": [
    {
     "name": "stdout",
     "output_type": "stream",
     "text": [
      "[1, 2, 3, 4, 5, 6, 7, 8, 9]\n"
     ]
    }
   ],
   "source": [
    "list=[1,2,3,4,5,6,7,8,9,10]\n",
    "list.pop()\n",
    "print(list)"
   ]
  },
  {
   "cell_type": "code",
   "execution_count": 9,
   "metadata": {},
   "outputs": [
    {
     "name": "stdout",
     "output_type": "stream",
     "text": [
      "enter your first name: Ravindra\n",
      "enter your last name: Kumar\n",
      "hello Kumar Ravindra\n"
     ]
    }
   ],
   "source": [
    "fname =input(\"enter your first name: \")\n",
    "lname =input(\"enter your last name: \")\n",
    "print(\"hello \" + lname + \" \" + fname)"
   ]
  },
  {
   "cell_type": "code",
   "execution_count": 15,
   "metadata": {},
   "outputs": [
    {
     "name": "stdout",
     "output_type": "stream",
     "text": [
      "The volume of sphere:  7234.5599999999995\n"
     ]
    }
   ],
   "source": [
    "pi=3.14\n",
    "r = 12.0\n",
    "v = 4.0/3.0*pi*r**3\n",
    "print('The volume of sphere: ',v)"
   ]
  },
  {
   "cell_type": "code",
   "execution_count": 20,
   "metadata": {},
   "outputs": [
    {
     "name": "stdout",
     "output_type": "stream",
     "text": [
      "enter comma separated values: 3,5,7,9,10,12\n",
      "List:  ['3', '5', '7', '9', '10', '12']\n"
     ]
    }
   ],
   "source": [
    "values = input(\"enter comma separated values: \")\n",
    "list = values.split(\",\")\n",
    "print('List: ',list)"
   ]
  },
  {
   "cell_type": "code",
   "execution_count": 53,
   "metadata": {},
   "outputs": [
    {
     "name": "stdout",
     "output_type": "stream",
     "text": [
      "\n",
      "* \n",
      "* * \n",
      "* * * \n",
      "* * * * \n",
      "* * * * * \n",
      "* * * * \n",
      "* * * \n",
      "* * \n",
      "* \n",
      "\n",
      "\n"
     ]
    }
   ],
   "source": [
    "for i in range(0,6):\n",
    "    for j in range(1,i+1):\n",
    "        print(\"* \",end =\"\")\n",
    "    print()\n",
    "    \n",
    "for i in range(6,0,-1):\n",
    "    for j in range(1,i-1):\n",
    "        print(\"* \",end=\"\")\n",
    "    print()"
   ]
  },
  {
   "cell_type": "code",
   "execution_count": 16,
   "metadata": {},
   "outputs": [
    {
     "name": "stdout",
     "output_type": "stream",
     "text": [
      "Enter a string: london\n",
      "nodnol\n"
     ]
    }
   ],
   "source": [
    "s = input(\"Enter a string: \")\n",
    "print(s[::-1])"
   ]
  },
  {
   "cell_type": "code",
   "execution_count": 51,
   "metadata": {},
   "outputs": [
    {
     "name": "stdout",
     "output_type": "stream",
     "text": [
      "6 5 4 3 2 1 "
     ]
    }
   ],
   "source": [
    "for i in range(6,0,-1):\n",
    "    print(i, end =\" \")\n",
    "    "
   ]
  },
  {
   "cell_type": "code",
   "execution_count": null,
   "metadata": {},
   "outputs": [],
   "source": []
  }
 ],
 "metadata": {
  "kernelspec": {
   "display_name": "Python 3",
   "language": "python",
   "name": "python3"
  },
  "language_info": {
   "codemirror_mode": {
    "name": "ipython",
    "version": 3
   },
   "file_extension": ".py",
   "mimetype": "text/x-python",
   "name": "python",
   "nbconvert_exporter": "python",
   "pygments_lexer": "ipython3",
   "version": "3.7.0"
  }
 },
 "nbformat": 4,
 "nbformat_minor": 2
}
